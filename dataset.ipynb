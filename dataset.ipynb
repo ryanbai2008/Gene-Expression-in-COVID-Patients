{
 "cells": [
  {
   "cell_type": "code",
   "execution_count": null,
   "id": "00017e4e",
   "metadata": {},
   "outputs": [
    {
     "name": "stdout",
     "output_type": "stream",
     "text": [
      "  Patient_ID   Status RecruitmentSite  Gender   Age Clinical_outcome  \\\n",
      "0      HC046  Control       Australia    Male  24.9              NaN   \n",
      "1      HC100  Control       Australia    Male    55              NaN   \n",
      "2      HC105  Control       Australia    Male  37.9              NaN   \n",
      "3      HC107  Control       Australia  Female  44.2              NaN   \n",
      "4      HC108  Control       Australia    Male  61.1              NaN   \n",
      "\n",
      "   vaccination  vaccination_type___1  vaccination_type___2  \\\n",
      "0          NaN                   NaN                   NaN   \n",
      "1          NaN                   NaN                   NaN   \n",
      "2          NaN                   NaN                   NaN   \n",
      "3          NaN                   NaN                   NaN   \n",
      "4          NaN                   NaN                   NaN   \n",
      "\n",
      "   vaccination_type___3  ...  mi  cardiac_ischaemia arrthythmia  \\\n",
      "0                   NaN  ... NaN                NaN         NaN   \n",
      "1                   NaN  ... NaN                NaN         NaN   \n",
      "2                   NaN  ... NaN                NaN         NaN   \n",
      "3                   NaN  ... NaN                NaN         NaN   \n",
      "4                   NaN  ... NaN                NaN         NaN   \n",
      "\n",
      "   myo_peri_carditis  endocarditis  cardiomyopathy  chf  arf  los_hosp  \\\n",
      "0                NaN           NaN             NaN  NaN  NaN       NaN   \n",
      "1                NaN           NaN             NaN  NaN  NaN       NaN   \n",
      "2                NaN           NaN             NaN  NaN  NaN       NaN   \n",
      "3                NaN           NaN             NaN  NaN  NaN       NaN   \n",
      "4                NaN           NaN             NaN  NaN  NaN       NaN   \n",
      "\n",
      "   los_icu  \n",
      "0      NaN  \n",
      "1      NaN  \n",
      "2      NaN  \n",
      "3      NaN  \n",
      "4      NaN  \n",
      "\n",
      "[5 rows x 53 columns]\n"
     ]
    },
    {
     "ename": "TypeError",
     "evalue": "no numeric data to plot",
     "output_type": "error",
     "traceback": [
      "\u001b[31m---------------------------------------------------------------------------\u001b[39m",
      "\u001b[31mTypeError\u001b[39m                                 Traceback (most recent call last)",
      "\u001b[36mCell\u001b[39m\u001b[36m \u001b[39m\u001b[32mIn[15]\u001b[39m\u001b[32m, line 27\u001b[39m\n\u001b[32m     25\u001b[39m data = df.drop([\u001b[33m\"\u001b[39m\u001b[33mvaccination_type___2\u001b[39m\u001b[33m\"\u001b[39m], axis=\u001b[32m1\u001b[39m)\n\u001b[32m     26\u001b[39m data\n\u001b[32m---> \u001b[39m\u001b[32m27\u001b[39m \u001b[43mdata\u001b[49m\u001b[43m[\u001b[49m\u001b[33;43m\"\u001b[39;49m\u001b[33;43mAge\u001b[39;49m\u001b[33;43m\"\u001b[39;49m\u001b[43m]\u001b[49m\u001b[43m.\u001b[49m\u001b[43mplot\u001b[49m\u001b[43m(\u001b[49m\u001b[43m)\u001b[49m\n",
      "\u001b[36mFile \u001b[39m\u001b[32m~\\AppData\\Local\\Packages\\PythonSoftwareFoundation.Python.3.11_qbz5n2kfra8p0\\LocalCache\\local-packages\\Python311\\site-packages\\pandas\\plotting\\_core.py:1030\u001b[39m, in \u001b[36mPlotAccessor.__call__\u001b[39m\u001b[34m(self, *args, **kwargs)\u001b[39m\n\u001b[32m   1027\u001b[39m             label_name = label_kw \u001b[38;5;129;01mor\u001b[39;00m data.columns\n\u001b[32m   1028\u001b[39m             data.columns = label_name\n\u001b[32m-> \u001b[39m\u001b[32m1030\u001b[39m \u001b[38;5;28;01mreturn\u001b[39;00m \u001b[43mplot_backend\u001b[49m\u001b[43m.\u001b[49m\u001b[43mplot\u001b[49m\u001b[43m(\u001b[49m\u001b[43mdata\u001b[49m\u001b[43m,\u001b[49m\u001b[43m \u001b[49m\u001b[43mkind\u001b[49m\u001b[43m=\u001b[49m\u001b[43mkind\u001b[49m\u001b[43m,\u001b[49m\u001b[43m \u001b[49m\u001b[43m*\u001b[49m\u001b[43m*\u001b[49m\u001b[43mkwargs\u001b[49m\u001b[43m)\u001b[49m\n",
      "\u001b[36mFile \u001b[39m\u001b[32m~\\AppData\\Local\\Packages\\PythonSoftwareFoundation.Python.3.11_qbz5n2kfra8p0\\LocalCache\\local-packages\\Python311\\site-packages\\pandas\\plotting\\_matplotlib\\__init__.py:71\u001b[39m, in \u001b[36mplot\u001b[39m\u001b[34m(data, kind, **kwargs)\u001b[39m\n\u001b[32m     69\u001b[39m         kwargs[\u001b[33m\"\u001b[39m\u001b[33max\u001b[39m\u001b[33m\"\u001b[39m] = \u001b[38;5;28mgetattr\u001b[39m(ax, \u001b[33m\"\u001b[39m\u001b[33mleft_ax\u001b[39m\u001b[33m\"\u001b[39m, ax)\n\u001b[32m     70\u001b[39m plot_obj = PLOT_CLASSES[kind](data, **kwargs)\n\u001b[32m---> \u001b[39m\u001b[32m71\u001b[39m \u001b[43mplot_obj\u001b[49m\u001b[43m.\u001b[49m\u001b[43mgenerate\u001b[49m\u001b[43m(\u001b[49m\u001b[43m)\u001b[49m\n\u001b[32m     72\u001b[39m plot_obj.draw()\n\u001b[32m     73\u001b[39m \u001b[38;5;28;01mreturn\u001b[39;00m plot_obj.result\n",
      "\u001b[36mFile \u001b[39m\u001b[32m~\\AppData\\Local\\Packages\\PythonSoftwareFoundation.Python.3.11_qbz5n2kfra8p0\\LocalCache\\local-packages\\Python311\\site-packages\\pandas\\plotting\\_matplotlib\\core.py:499\u001b[39m, in \u001b[36mMPLPlot.generate\u001b[39m\u001b[34m(self)\u001b[39m\n\u001b[32m    497\u001b[39m \u001b[38;5;129m@final\u001b[39m\n\u001b[32m    498\u001b[39m \u001b[38;5;28;01mdef\u001b[39;00m\u001b[38;5;250m \u001b[39m\u001b[34mgenerate\u001b[39m(\u001b[38;5;28mself\u001b[39m) -> \u001b[38;5;28;01mNone\u001b[39;00m:\n\u001b[32m--> \u001b[39m\u001b[32m499\u001b[39m     \u001b[38;5;28;43mself\u001b[39;49m\u001b[43m.\u001b[49m\u001b[43m_compute_plot_data\u001b[49m\u001b[43m(\u001b[49m\u001b[43m)\u001b[49m\n\u001b[32m    500\u001b[39m     fig = \u001b[38;5;28mself\u001b[39m.fig\n\u001b[32m    501\u001b[39m     \u001b[38;5;28mself\u001b[39m._make_plot(fig)\n",
      "\u001b[36mFile \u001b[39m\u001b[32m~\\AppData\\Local\\Packages\\PythonSoftwareFoundation.Python.3.11_qbz5n2kfra8p0\\LocalCache\\local-packages\\Python311\\site-packages\\pandas\\plotting\\_matplotlib\\core.py:698\u001b[39m, in \u001b[36mMPLPlot._compute_plot_data\u001b[39m\u001b[34m(self)\u001b[39m\n\u001b[32m    696\u001b[39m \u001b[38;5;66;03m# no non-numeric frames or series allowed\u001b[39;00m\n\u001b[32m    697\u001b[39m \u001b[38;5;28;01mif\u001b[39;00m is_empty:\n\u001b[32m--> \u001b[39m\u001b[32m698\u001b[39m     \u001b[38;5;28;01mraise\u001b[39;00m \u001b[38;5;167;01mTypeError\u001b[39;00m(\u001b[33m\"\u001b[39m\u001b[33mno numeric data to plot\u001b[39m\u001b[33m\"\u001b[39m)\n\u001b[32m    700\u001b[39m \u001b[38;5;28mself\u001b[39m.data = numeric_data.apply(\u001b[38;5;28mtype\u001b[39m(\u001b[38;5;28mself\u001b[39m)._convert_to_ndarray)\n",
      "\u001b[31mTypeError\u001b[39m: no numeric data to plot"
     ]
    }
   ],
   "source": [
    "import pandas as pd\n",
    "import numpy as np\n",
    "\n",
    "# pip install pandas openpyxl\n",
    "df = pd.read_excel(\"data/data.xlsx\")\n",
    "df\n",
    "print(df.head())\n",
    "\n",
    "\n",
    "\n",
    "#sheet name -- tells what sheet to read\n",
    "df = pd.read_excel(\"data/data.xlsx\", sheet_name=\"Sheet1\")\n",
    "df\n",
    "\n",
    "# ------------------------------\n",
    "# Label Data\n",
    "# ------------------------------\n",
    "\n",
    "df\n",
    "\n",
    "\n",
    "# ------------------------------\n",
    "# Transform Data\n",
    "# ------------------------------\n",
    "data = df.drop([\"vaccination_type___2\"], axis=1)\n",
    "data\n",
    "data[\"Age\"].plot()"
   ]
  }
 ],
 "metadata": {
  "kernelspec": {
   "display_name": "Python 3",
   "language": "python",
   "name": "python3"
  },
  "language_info": {
   "codemirror_mode": {
    "name": "ipython",
    "version": 3
   },
   "file_extension": ".py",
   "mimetype": "text/x-python",
   "name": "python",
   "nbconvert_exporter": "python",
   "pygments_lexer": "ipython3",
   "version": "3.11.9"
  }
 },
 "nbformat": 4,
 "nbformat_minor": 5
}
